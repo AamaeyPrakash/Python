{
 "cells": [
  {
   "cell_type": "code",
   "execution_count": 1,
   "id": "4cb4ad8c",
   "metadata": {
    "_cell_guid": "b1076dfc-b9ad-4769-8c92-a6c4dae69d19",
    "_uuid": "8f2839f25d086af736a60e9eeb907d3b93b6e0e5",
    "execution": {
     "iopub.execute_input": "2025-01-18T14:19:08.128238Z",
     "iopub.status.busy": "2025-01-18T14:19:08.127773Z",
     "iopub.status.idle": "2025-01-18T14:19:09.076476Z",
     "shell.execute_reply": "2025-01-18T14:19:09.075367Z"
    },
    "papermill": {
     "duration": 0.955432,
     "end_time": "2025-01-18T14:19:09.078985",
     "exception": false,
     "start_time": "2025-01-18T14:19:08.123553",
     "status": "completed"
    },
    "tags": []
   },
   "outputs": [
    {
     "name": "stdout",
     "output_type": "stream",
     "text": [
      "/kaggle/input/40-years-of-music-industry-sales/MusicData.csv\n"
     ]
    }
   ],
   "source": [
    "# This Python 3 environment comes with many helpful analytics libraries installed\n",
    "# It is defined by the kaggle/python Docker image: https://github.com/kaggle/docker-python\n",
    "# For example, here's several helpful packages to load\n",
    "\n",
    "import numpy as np # linear algebra\n",
    "import pandas as pd # data processing, CSV file I/O (e.g. pd.read_csv)\n",
    "\n",
    "# Input data files are available in the read-only \"../input/\" directory\n",
    "# For example, running this (by clicking run or pressing Shift+Enter) will list all files under the input directory\n",
    "\n",
    "import os\n",
    "for dirname, _, filenames in os.walk('/kaggle/input'):\n",
    "    for filename in filenames:\n",
    "        print(os.path.join(dirname, filename))\n",
    "\n",
    "# You can write up to 20GB to the current directory (/kaggle/working/) that gets preserved as output when you create a version using \"Save & Run All\" \n",
    "# You can also write temporary files to /kaggle/temp/, but they won't be saved outside of the current session"
   ]
  },
  {
   "cell_type": "code",
   "execution_count": 2,
   "id": "e6d54ae7",
   "metadata": {
    "execution": {
     "iopub.execute_input": "2025-01-18T14:19:09.085989Z",
     "iopub.status.busy": "2025-01-18T14:19:09.084956Z",
     "iopub.status.idle": "2025-01-18T14:19:09.121327Z",
     "shell.execute_reply": "2025-01-18T14:19:09.119989Z"
    },
    "papermill": {
     "duration": 0.042095,
     "end_time": "2025-01-18T14:19:09.123828",
     "exception": false,
     "start_time": "2025-01-18T14:19:09.081733",
     "status": "completed"
    },
    "tags": []
   },
   "outputs": [
    {
     "data": {
      "text/html": [
       "<div>\n",
       "<style scoped>\n",
       "    .dataframe tbody tr th:only-of-type {\n",
       "        vertical-align: middle;\n",
       "    }\n",
       "\n",
       "    .dataframe tbody tr th {\n",
       "        vertical-align: top;\n",
       "    }\n",
       "\n",
       "    .dataframe thead th {\n",
       "        text-align: right;\n",
       "    }\n",
       "</style>\n",
       "<table border=\"1\" class=\"dataframe\">\n",
       "  <thead>\n",
       "    <tr style=\"text-align: right;\">\n",
       "      <th></th>\n",
       "      <th>?Format</th>\n",
       "      <th>Metric</th>\n",
       "      <th>Year</th>\n",
       "      <th>Number of Records</th>\n",
       "      <th>Value (Actual)</th>\n",
       "    </tr>\n",
       "  </thead>\n",
       "  <tbody>\n",
       "    <tr>\n",
       "      <th>0</th>\n",
       "      <td>CD</td>\n",
       "      <td>Units</td>\n",
       "      <td>1973</td>\n",
       "      <td>1</td>\n",
       "      <td>NaN</td>\n",
       "    </tr>\n",
       "    <tr>\n",
       "      <th>1</th>\n",
       "      <td>CD</td>\n",
       "      <td>Units</td>\n",
       "      <td>1974</td>\n",
       "      <td>1</td>\n",
       "      <td>NaN</td>\n",
       "    </tr>\n",
       "    <tr>\n",
       "      <th>2</th>\n",
       "      <td>CD</td>\n",
       "      <td>Units</td>\n",
       "      <td>1975</td>\n",
       "      <td>1</td>\n",
       "      <td>NaN</td>\n",
       "    </tr>\n",
       "    <tr>\n",
       "      <th>3</th>\n",
       "      <td>CD</td>\n",
       "      <td>Units</td>\n",
       "      <td>1976</td>\n",
       "      <td>1</td>\n",
       "      <td>NaN</td>\n",
       "    </tr>\n",
       "    <tr>\n",
       "      <th>4</th>\n",
       "      <td>CD</td>\n",
       "      <td>Units</td>\n",
       "      <td>1977</td>\n",
       "      <td>1</td>\n",
       "      <td>NaN</td>\n",
       "    </tr>\n",
       "  </tbody>\n",
       "</table>\n",
       "</div>"
      ],
      "text/plain": [
       "  ?Format Metric  Year  Number of Records Value (Actual)\n",
       "0      CD  Units  1973                  1            NaN\n",
       "1      CD  Units  1974                  1            NaN\n",
       "2      CD  Units  1975                  1            NaN\n",
       "3      CD  Units  1976                  1            NaN\n",
       "4      CD  Units  1977                  1            NaN"
      ]
     },
     "execution_count": 2,
     "metadata": {},
     "output_type": "execute_result"
    }
   ],
   "source": [
    "import pandas as pd\n",
    "data = pd.read_csv(\"/kaggle/input/40-years-of-music-industry-sales/MusicData.csv\")\n",
    "data.head()"
   ]
  },
  {
   "cell_type": "code",
   "execution_count": 3,
   "id": "aad79702",
   "metadata": {
    "execution": {
     "iopub.execute_input": "2025-01-18T14:19:09.130680Z",
     "iopub.status.busy": "2025-01-18T14:19:09.129743Z",
     "iopub.status.idle": "2025-01-18T14:19:09.440825Z",
     "shell.execute_reply": "2025-01-18T14:19:09.439459Z"
    },
    "papermill": {
     "duration": 0.316785,
     "end_time": "2025-01-18T14:19:09.443085",
     "exception": false,
     "start_time": "2025-01-18T14:19:09.126300",
     "status": "completed"
    },
    "tags": []
   },
   "outputs": [
    {
     "data": {
      "text/plain": [
       "(array([192., 128., 128., 192., 128., 128., 192., 128., 128., 128., 192.,\n",
       "        128., 128., 192., 128., 128., 192., 128., 128., 192.]),\n",
       " array([1973. , 1975.3, 1977.6, 1979.9, 1982.2, 1984.5, 1986.8, 1989.1,\n",
       "        1991.4, 1993.7, 1996. , 1998.3, 2000.6, 2002.9, 2005.2, 2007.5,\n",
       "        2009.8, 2012.1, 2014.4, 2016.7, 2019. ]),\n",
       " <BarContainer object of 20 artists>)"
      ]
     },
     "execution_count": 3,
     "metadata": {},
     "output_type": "execute_result"
    },
    {
     "data": {
      "image/png": "[encoded data removed]",
      "text/plain": [
       "<Figure size 640x480 with 1 Axes>"
      ]
     },
     "metadata": {},
     "output_type": "display_data"
    }
   ],
   "source": [
    "import matplotlib.pyplot as plt\n",
    "plt.hist(data[\"Year\"],edgecolor=\"black\",bins = 20)"
   ]
  },
  {
   "cell_type": "code",
   "execution_count": null,
   "id": "15a48a89",
   "metadata": {
    "papermill": {
     "duration": 0.002172,
     "end_time": "2025-01-18T14:19:09.447865",
     "exception": false,
     "start_time": "2025-01-18T14:19:09.445693",
     "status": "completed"
    },
    "tags": []
   },
   "outputs": [],
   "source": []
  }
 ],
 "metadata": {
  "kaggle": {
   "accelerator": "none",
   "dataSources": [
    {
     "datasetId": 4330629,
     "sourceId": 7440543,
     "sourceType": "datasetVersion"
    }
   ],
   "dockerImageVersionId": 30786,
   "isGpuEnabled": false,
   "isInternetEnabled": true,
   "language": "python",
   "sourceType": "notebook"
  },
  "kernelspec": {
   "display_name": "Python 3",
   "language": "python",
   "name": "python3"
  },
  "language_info": {
   "codemirror_mode": {
    "name": "ipython",
    "version": 3
   },
   "file_extension": ".py",
   "mimetype": "text/x-python",
   "name": "python",
   "nbconvert_exporter": "python",
   "pygments_lexer": "ipython3",
   "version": "3.10.14"
  },
  "papermill": {
   "default_parameters": {},
   "duration": 5.582146,
   "end_time": "2025-01-18T14:19:10.172969",
   "environment_variables": {},
   "exception": null,
   "input_path": "__notebook__.ipynb",
   "output_path": "__notebook__.ipynb",
   "parameters": {},
   "start_time": "2025-01-18T14:19:04.590823",
   "version": "2.6.0"
  }
 },
 "nbformat": 4,
 "nbformat_minor": 5
}
