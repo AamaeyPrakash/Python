{
 "cells": [
  {
   "cell_type": "code",
   "execution_count": 1,
   "id": "28c8540e",
   "metadata": {
    "_cell_guid": "b1076dfc-b9ad-4769-8c92-a6c4dae69d19",
    "_uuid": "8f2839f25d086af736a60e9eeb907d3b93b6e0e5",
    "execution": {
     "iopub.execute_input": "2025-06-26T10:40:29.883085Z",
     "iopub.status.busy": "2025-06-26T10:40:29.882752Z",
     "iopub.status.idle": "2025-06-26T10:40:52.583719Z",
     "shell.execute_reply": "2025-06-26T10:40:52.582461Z"
    },
    "papermill": {
     "duration": 22.708616,
     "end_time": "2025-06-26T10:40:52.585929",
     "exception": false,
     "start_time": "2025-06-26T10:40:29.877313",
     "status": "completed"
    },
    "tags": []
   },
   "outputs": [
    {
     "name": "stdout",
     "output_type": "stream",
     "text": [
      "/kaggle/input/digit-recognizer/sample_submission.csv\n",
      "/kaggle/input/digit-recognizer/train.csv\n",
      "/kaggle/input/digit-recognizer/test.csv\n"
     ]
    },
    {
     "name": "stderr",
     "output_type": "stream",
     "text": [
      "2025-06-26 10:40:34.024689: E external/local_xla/xla/stream_executor/cuda/cuda_fft.cc:477] Unable to register cuFFT factory: Attempting to register factory for plugin cuFFT when one has already been registered\n",
      "WARNING: All log messages before absl::InitializeLog() is called are written to STDERR\n",
      "E0000 00:00:1750934434.278031      13 cuda_dnn.cc:8310] Unable to register cuDNN factory: Attempting to register factory for plugin cuDNN when one has already been registered\n",
      "E0000 00:00:1750934434.352192      13 cuda_blas.cc:1418] Unable to register cuBLAS factory: Attempting to register factory for plugin cuBLAS when one has already been registered\n"
     ]
    }
   ],
   "source": [
    "# This Python 3 environment comes with many helpful analytics libraries installed\n",
    "# It is defined by the kaggle/python Docker image: https://github.com/kaggle/docker-python\n",
    "# For example, here's several helpful packages to load\n",
    "\n",
    "import numpy as np # linear algebra\n",
    "import pandas as pd\n",
    "import  matplotlib.pyplot as plt \n",
    "# data processing, CSV file I/O (e.g. pd.read_csv)\n",
    "\n",
    "# Input data files are available in the read-only \"../input/\" directory\n",
    "# For example, running this (by clicking run or pressing Shift+Enter) will list all files under the input directory\n",
    "\n",
    "import os\n",
    "for dirname, _, filenames in os.walk('/kaggle/input'):\n",
    "    for filename in filenames:\n",
    "        print(os.path.join(dirname, filename))\n",
    "\n",
    "# You can write up to 20GB to the current directory (/kaggle/working/) that gets preserved as output when you create a version using \"Save & Run All\" \n",
    "# You can also write temporary files to /kaggle/temp/, but they won't be saved outside of the current session\n",
    "\n",
    "from tensorflow.keras.utils import to_categorical"
   ]
  },
  {
   "cell_type": "code",
   "execution_count": 2,
   "id": "f5ffee53",
   "metadata": {
    "execution": {
     "iopub.execute_input": "2025-06-26T10:40:52.596333Z",
     "iopub.status.busy": "2025-06-26T10:40:52.595691Z",
     "iopub.status.idle": "2025-06-26T10:40:56.013212Z",
     "shell.execute_reply": "2025-06-26T10:40:56.011967Z"
    },
    "papermill": {
     "duration": 3.424805,
     "end_time": "2025-06-26T10:40:56.015095",
     "exception": false,
     "start_time": "2025-06-26T10:40:52.590290",
     "status": "completed"
    },
    "tags": []
   },
   "outputs": [],
   "source": [
    "data = pd.read_csv(\"/kaggle/input/digit-recognizer/train.csv\")"
   ]
  },
  {
   "cell_type": "code",
   "execution_count": 3,
   "id": "f3009b6a",
   "metadata": {
    "execution": {
     "iopub.execute_input": "2025-06-26T10:40:56.026483Z",
     "iopub.status.busy": "2025-06-26T10:40:56.026131Z",
     "iopub.status.idle": "2025-06-26T10:40:56.061045Z",
     "shell.execute_reply": "2025-06-26T10:40:56.059762Z"
    },
    "papermill": {
     "duration": 0.042215,
     "end_time": "2025-06-26T10:40:56.063068",
     "exception": false,
     "start_time": "2025-06-26T10:40:56.020853",
     "status": "completed"
    },
    "tags": []
   },
   "outputs": [
    {
     "data": {
      "text/html": [
       "<div>\n",
       "<style scoped>\n",
       "    .dataframe tbody tr th:only-of-type {\n",
       "        vertical-align: middle;\n",
       "    }\n",
       "\n",
       "    .dataframe tbody tr th {\n",
       "        vertical-align: top;\n",
       "    }\n",
       "\n",
       "    .dataframe thead th {\n",
       "        text-align: right;\n",
       "    }\n",
       "</style>\n",
       "<table border=\"1\" class=\"dataframe\">\n",
       "  <thead>\n",
       "    <tr style=\"text-align: right;\">\n",
       "      <th></th>\n",
       "      <th>label</th>\n",
       "      <th>pixel0</th>\n",
       "      <th>pixel1</th>\n",
       "      <th>pixel2</th>\n",
       "      <th>pixel3</th>\n",
       "      <th>pixel4</th>\n",
       "      <th>pixel5</th>\n",
       "      <th>pixel6</th>\n",
       "      <th>pixel7</th>\n",
       "      <th>pixel8</th>\n",
       "      <th>...</th>\n",
       "      <th>pixel774</th>\n",
       "      <th>pixel775</th>\n",
       "      <th>pixel776</th>\n",
       "      <th>pixel777</th>\n",
       "      <th>pixel778</th>\n",
       "      <th>pixel779</th>\n",
       "      <th>pixel780</th>\n",
       "      <th>pixel781</th>\n",
       "      <th>pixel782</th>\n",
       "      <th>pixel783</th>\n",
       "    </tr>\n",
       "  </thead>\n",
       "  <tbody>\n",
       "    <tr>\n",
       "      <th>0</th>\n",
       "      <td>1</td>\n",
       "      <td>0</td>\n",
       "      <td>0</td>\n",
       "      <td>0</td>\n",
       "      <td>0</td>\n",
       "      <td>0</td>\n",
       "      <td>0</td>\n",
       "      <td>0</td>\n",
       "      <td>0</td>\n",
       "      <td>0</td>\n",
       "      <td>...</td>\n",
       "      <td>0</td>\n",
       "      <td>0</td>\n",
       "      <td>0</td>\n",
       "      <td>0</td>\n",
       "      <td>0</td>\n",
       "      <td>0</td>\n",
       "      <td>0</td>\n",
       "      <td>0</td>\n",
       "      <td>0</td>\n",
       "      <td>0</td>\n",
       "    </tr>\n",
       "    <tr>\n",
       "      <th>1</th>\n",
       "      <td>0</td>\n",
       "      <td>0</td>\n",
       "      <td>0</td>\n",
       "      <td>0</td>\n",
       "      <td>0</td>\n",
       "      <td>0</td>\n",
       "      <td>0</td>\n",
       "      <td>0</td>\n",
       "      <td>0</td>\n",
       "      <td>0</td>\n",
       "      <td>...</td>\n",
       "      <td>0</td>\n",
       "      <td>0</td>\n",
       "      <td>0</td>\n",
       "      <td>0</td>\n",
       "      <td>0</td>\n",
       "      <td>0</td>\n",
       "      <td>0</td>\n",
       "      <td>0</td>\n",
       "      <td>0</td>\n",
       "      <td>0</td>\n",
       "    </tr>\n",
       "    <tr>\n",
       "      <th>2</th>\n",
       "      <td>1</td>\n",
       "      <td>0</td>\n",
       "      <td>0</td>\n",
       "      <td>0</td>\n",
       "      <td>0</td>\n",
       "      <td>0</td>\n",
       "      <td>0</td>\n",
       "      <td>0</td>\n",
       "      <td>0</td>\n",
       "      <td>0</td>\n",
       "      <td>...</td>\n",
       "      <td>0</td>\n",
       "      <td>0</td>\n",
       "      <td>0</td>\n",
       "      <td>0</td>\n",
       "      <td>0</td>\n",
       "      <td>0</td>\n",
       "      <td>0</td>\n",
       "      <td>0</td>\n",
       "      <td>0</td>\n",
       "      <td>0</td>\n",
       "    </tr>\n",
       "    <tr>\n",
       "      <th>3</th>\n",
       "      <td>4</td>\n",
       "      <td>0</td>\n",
       "      <td>0</td>\n",
       "      <td>0</td>\n",
       "      <td>0</td>\n",
       "      <td>0</td>\n",
       "      <td>0</td>\n",
       "      <td>0</td>\n",
       "      <td>0</td>\n",
       "      <td>0</td>\n",
       "      <td>...</td>\n",
       "      <td>0</td>\n",
       "      <td>0</td>\n",
       "      <td>0</td>\n",
       "      <td>0</td>\n",
       "      <td>0</td>\n",
       "      <td>0</td>\n",
       "      <td>0</td>\n",
       "      <td>0</td>\n",
       "      <td>0</td>\n",
       "      <td>0</td>\n",
       "    </tr>\n",
       "    <tr>\n",
       "      <th>4</th>\n",
       "      <td>0</td>\n",
       "      <td>0</td>\n",
       "      <td>0</td>\n",
       "      <td>0</td>\n",
       "      <td>0</td>\n",
       "      <td>0</td>\n",
       "      <td>0</td>\n",
       "      <td>0</td>\n",
       "      <td>0</td>\n",
       "      <td>0</td>\n",
       "      <td>...</td>\n",
       "      <td>0</td>\n",
       "      <td>0</td>\n",
       "      <td>0</td>\n",
       "      <td>0</td>\n",
       "      <td>0</td>\n",
       "      <td>0</td>\n",
       "      <td>0</td>\n",
       "      <td>0</td>\n",
       "      <td>0</td>\n",
       "      <td>0</td>\n",
       "    </tr>\n",
       "  </tbody>\n",
       "</table>\n",
       "<p>5 rows × 785 columns</p>\n",
       "</div>"
      ],
      "text/plain": [
       "   label  pixel0  pixel1  pixel2  pixel3  pixel4  pixel5  pixel6  pixel7  \\\n",
       "0      1       0       0       0       0       0       0       0       0   \n",
       "1      0       0       0       0       0       0       0       0       0   \n",
       "2      1       0       0       0       0       0       0       0       0   \n",
       "3      4       0       0       0       0       0       0       0       0   \n",
       "4      0       0       0       0       0       0       0       0       0   \n",
       "\n",
       "   pixel8  ...  pixel774  pixel775  pixel776  pixel777  pixel778  pixel779  \\\n",
       "0       0  ...         0         0         0         0         0         0   \n",
       "1       0  ...         0         0         0         0         0         0   \n",
       "2       0  ...         0         0         0         0         0         0   \n",
       "3       0  ...         0         0         0         0         0         0   \n",
       "4       0  ...         0         0         0         0         0         0   \n",
       "\n",
       "   pixel780  pixel781  pixel782  pixel783  \n",
       "0         0         0         0         0  \n",
       "1         0         0         0         0  \n",
       "2         0         0         0         0  \n",
       "3         0         0         0         0  \n",
       "4         0         0         0         0  \n",
       "\n",
       "[5 rows x 785 columns]"
      ]
     },
     "execution_count": 3,
     "metadata": {},
     "output_type": "execute_result"
    }
   ],
   "source": [
    "data.head()"
   ]
  },
  {
   "cell_type": "code",
   "execution_count": 4,
   "id": "11e7e600",
   "metadata": {
    "execution": {
     "iopub.execute_input": "2025-06-26T10:40:56.075199Z",
     "iopub.status.busy": "2025-06-26T10:40:56.073547Z",
     "iopub.status.idle": "2025-06-26T10:40:56.081839Z",
     "shell.execute_reply": "2025-06-26T10:40:56.080449Z"
    },
    "papermill": {
     "duration": 0.016376,
     "end_time": "2025-06-26T10:40:56.084160",
     "exception": false,
     "start_time": "2025-06-26T10:40:56.067784",
     "status": "completed"
    },
    "tags": []
   },
   "outputs": [],
   "source": [
    "x=data.iloc[:,1:]\n",
    "y=data.iloc[:,0]\n",
    "x\n",
    "y = to_categorical(y,num_classes=10)"
   ]
  },
  {
   "cell_type": "code",
   "execution_count": 5,
   "id": "a80ebc54",
   "metadata": {
    "execution": {
     "iopub.execute_input": "2025-06-26T10:40:56.095170Z",
     "iopub.status.busy": "2025-06-26T10:40:56.094833Z",
     "iopub.status.idle": "2025-06-26T10:40:56.467864Z",
     "shell.execute_reply": "2025-06-26T10:40:56.466507Z"
    },
    "papermill": {
     "duration": 0.380993,
     "end_time": "2025-06-26T10:40:56.469966",
     "exception": false,
     "start_time": "2025-06-26T10:40:56.088973",
     "status": "completed"
    },
    "tags": []
   },
   "outputs": [],
   "source": [
    "from sklearn.model_selection import train_test_split\n",
    "x_train, x_test, y_train, y_test = train_test_split(x,y,test_size=0.3)"
   ]
  },
  {
   "cell_type": "code",
   "execution_count": 6,
   "id": "28f3146a",
   "metadata": {
    "execution": {
     "iopub.execute_input": "2025-06-26T10:40:56.479915Z",
     "iopub.status.busy": "2025-06-26T10:40:56.478726Z",
     "iopub.status.idle": "2025-06-26T10:40:57.009965Z",
     "shell.execute_reply": "2025-06-26T10:40:57.008657Z"
    },
    "papermill": {
     "duration": 0.537786,
     "end_time": "2025-06-26T10:40:57.011773",
     "exception": false,
     "start_time": "2025-06-26T10:40:56.473987",
     "status": "completed"
    },
    "tags": []
   },
   "outputs": [
    {
     "data": {
      "text/plain": [
       "array([[0., 0., 0., ..., 0., 0., 0.],\n",
       "       [0., 0., 0., ..., 0., 0., 0.],\n",
       "       [0., 0., 0., ..., 0., 0., 0.],\n",
       "       ...,\n",
       "       [0., 0., 0., ..., 0., 0., 0.],\n",
       "       [0., 0., 0., ..., 0., 0., 0.],\n",
       "       [0., 0., 0., ..., 0., 0., 0.]])"
      ]
     },
     "execution_count": 6,
     "metadata": {},
     "output_type": "execute_result"
    }
   ],
   "source": [
    "from sklearn.preprocessing import StandardScaler\n",
    "\n",
    "scalerObj = StandardScaler()\n",
    "xScaled = scalerObj.fit_transform(x_train)\n",
    "xScaled"
   ]
  },
  {
   "cell_type": "code",
   "execution_count": 7,
   "id": "c896cd45",
   "metadata": {
    "execution": {
     "iopub.execute_input": "2025-06-26T10:40:57.021615Z",
     "iopub.status.busy": "2025-06-26T10:40:57.021265Z",
     "iopub.status.idle": "2025-06-26T10:40:57.035567Z",
     "shell.execute_reply": "2025-06-26T10:40:57.034235Z"
    },
    "papermill": {
     "duration": 0.021285,
     "end_time": "2025-06-26T10:40:57.037480",
     "exception": false,
     "start_time": "2025-06-26T10:40:57.016195",
     "status": "completed"
    },
    "tags": []
   },
   "outputs": [],
   "source": [
    "from tensorflow.keras.models import Sequential\n",
    "from tensorflow.keras.applications import MobileNetV2\n",
    "from tensorflow.keras.layers import Dense,Flatten,Input\n"
   ]
  },
  {
   "cell_type": "code",
   "execution_count": 8,
   "id": "029dc7c1",
   "metadata": {
    "execution": {
     "iopub.execute_input": "2025-06-26T10:40:57.047163Z",
     "iopub.status.busy": "2025-06-26T10:40:57.046790Z",
     "iopub.status.idle": "2025-06-26T10:40:57.175042Z",
     "shell.execute_reply": "2025-06-26T10:40:57.173939Z"
    },
    "papermill": {
     "duration": 0.13558,
     "end_time": "2025-06-26T10:40:57.177255",
     "exception": false,
     "start_time": "2025-06-26T10:40:57.041675",
     "status": "completed"
    },
    "tags": []
   },
   "outputs": [
    {
     "name": "stderr",
     "output_type": "stream",
     "text": [
      "2025-06-26 10:40:57.058998: E external/local_xla/xla/stream_executor/cuda/cuda_driver.cc:152] failed call to cuInit: INTERNAL: CUDA error: Failed call to cuInit: UNKNOWN ERROR (303)\n"
     ]
    }
   ],
   "source": [
    "model = Sequential()\n",
    "model.add(Input(shape=(784,)))\n",
    "model.add(Dense(128,activation=\"relu\"))\n",
    "model.add(Dense(64,activation=\"relu\"))\n",
    "model.add(Dense(32,activation=\"relu\"))\n",
    "model.add(Dense(10,activation=\"softmax\"))\n"
   ]
  },
  {
   "cell_type": "code",
   "execution_count": 9,
   "id": "5eccb35a",
   "metadata": {
    "execution": {
     "iopub.execute_input": "2025-06-26T10:40:57.187411Z",
     "iopub.status.busy": "2025-06-26T10:40:57.187059Z",
     "iopub.status.idle": "2025-06-26T10:40:57.204043Z",
     "shell.execute_reply": "2025-06-26T10:40:57.202984Z"
    },
    "papermill": {
     "duration": 0.024235,
     "end_time": "2025-06-26T10:40:57.206248",
     "exception": false,
     "start_time": "2025-06-26T10:40:57.182013",
     "status": "completed"
    },
    "tags": []
   },
   "outputs": [],
   "source": [
    "model.compile(\n",
    "    loss=\"categorical_crossentropy\",\n",
    "    optimizer=\"adam\",\n",
    "    metrics=['accuracy']\n",
    "    \n",
    ")"
   ]
  },
  {
   "cell_type": "code",
   "execution_count": 10,
   "id": "620ce928",
   "metadata": {
    "execution": {
     "iopub.execute_input": "2025-06-26T10:40:57.215767Z",
     "iopub.status.busy": "2025-06-26T10:40:57.215400Z",
     "iopub.status.idle": "2025-06-26T10:41:36.345703Z",
     "shell.execute_reply": "2025-06-26T10:41:36.344549Z"
    },
    "papermill": {
     "duration": 39.136983,
     "end_time": "2025-06-26T10:41:36.347583",
     "exception": false,
     "start_time": "2025-06-26T10:40:57.210600",
     "status": "completed"
    },
    "tags": []
   },
   "outputs": [
    {
     "name": "stdout",
     "output_type": "stream",
     "text": [
      "Epoch 1/10\n",
      "\u001b[1m919/919\u001b[0m \u001b[32m━━━━━━━━━━━━━━━━━━━━\u001b[0m\u001b[37m\u001b[0m \u001b[1m6s\u001b[0m 4ms/step - accuracy: 0.8239 - loss: 0.5878\n",
      "Epoch 2/10\n",
      "\u001b[1m919/919\u001b[0m \u001b[32m━━━━━━━━━━━━━━━━━━━━\u001b[0m\u001b[37m\u001b[0m \u001b[1m4s\u001b[0m 4ms/step - accuracy: 0.9610 - loss: 0.1247\n",
      "Epoch 3/10\n",
      "\u001b[1m919/919\u001b[0m \u001b[32m━━━━━━━━━━━━━━━━━━━━\u001b[0m\u001b[37m\u001b[0m \u001b[1m4s\u001b[0m 4ms/step - accuracy: 0.9744 - loss: 0.0783\n",
      "Epoch 4/10\n",
      "\u001b[1m919/919\u001b[0m \u001b[32m━━━━━━━━━━━━━━━━━━━━\u001b[0m\u001b[37m\u001b[0m \u001b[1m4s\u001b[0m 4ms/step - accuracy: 0.9819 - loss: 0.0542\n",
      "Epoch 5/10\n",
      "\u001b[1m919/919\u001b[0m \u001b[32m━━━━━━━━━━━━━━━━━━━━\u001b[0m\u001b[37m\u001b[0m \u001b[1m3s\u001b[0m 4ms/step - accuracy: 0.9871 - loss: 0.0409\n",
      "Epoch 6/10\n",
      "\u001b[1m919/919\u001b[0m \u001b[32m━━━━━━━━━━━━━━━━━━━━\u001b[0m\u001b[37m\u001b[0m \u001b[1m4s\u001b[0m 4ms/step - accuracy: 0.9875 - loss: 0.0422\n",
      "Epoch 7/10\n",
      "\u001b[1m919/919\u001b[0m \u001b[32m━━━━━━━━━━━━━━━━━━━━\u001b[0m\u001b[37m\u001b[0m \u001b[1m4s\u001b[0m 4ms/step - accuracy: 0.9915 - loss: 0.0289\n",
      "Epoch 8/10\n",
      "\u001b[1m919/919\u001b[0m \u001b[32m━━━━━━━━━━━━━━━━━━━━\u001b[0m\u001b[37m\u001b[0m \u001b[1m4s\u001b[0m 4ms/step - accuracy: 0.9909 - loss: 0.0288\n",
      "Epoch 9/10\n",
      "\u001b[1m919/919\u001b[0m \u001b[32m━━━━━━━━━━━━━━━━━━━━\u001b[0m\u001b[37m\u001b[0m \u001b[1m4s\u001b[0m 4ms/step - accuracy: 0.9924 - loss: 0.0244\n",
      "Epoch 10/10\n",
      "\u001b[1m919/919\u001b[0m \u001b[32m━━━━━━━━━━━━━━━━━━━━\u001b[0m\u001b[37m\u001b[0m \u001b[1m4s\u001b[0m 4ms/step - accuracy: 0.9952 - loss: 0.0163\n"
     ]
    },
    {
     "data": {
      "text/plain": [
       "<keras.src.callbacks.history.History at 0x78168d05c4d0>"
      ]
     },
     "execution_count": 10,
     "metadata": {},
     "output_type": "execute_result"
    }
   ],
   "source": [
    "model.fit(xScaled,y_train,epochs = 10)"
   ]
  },
  {
   "cell_type": "code",
   "execution_count": 11,
   "id": "118e6d1b",
   "metadata": {
    "execution": {
     "iopub.execute_input": "2025-06-26T10:41:36.442135Z",
     "iopub.status.busy": "2025-06-26T10:41:36.441786Z",
     "iopub.status.idle": "2025-06-26T10:41:37.952337Z",
     "shell.execute_reply": "2025-06-26T10:41:37.950545Z"
    },
    "papermill": {
     "duration": 1.560468,
     "end_time": "2025-06-26T10:41:37.954951",
     "exception": false,
     "start_time": "2025-06-26T10:41:36.394483",
     "status": "completed"
    },
    "tags": []
   },
   "outputs": [
    {
     "name": "stdout",
     "output_type": "stream",
     "text": [
      "\u001b[1m394/394\u001b[0m \u001b[32m━━━━━━━━━━━━━━━━━━━━\u001b[0m\u001b[37m\u001b[0m \u001b[1m1s\u001b[0m 3ms/step - accuracy: 0.9180 - loss: 32.3057\n",
      "33.58 0.92\n"
     ]
    }
   ],
   "source": [
    "loss,accuracy = model.evaluate(x_test,y_test)\n",
    "print(round(loss,2),round(accuracy,2))"
   ]
  },
  {
   "cell_type": "code",
   "execution_count": 12,
   "id": "0a92390f",
   "metadata": {
    "execution": {
     "iopub.execute_input": "2025-06-26T10:41:38.050764Z",
     "iopub.status.busy": "2025-06-26T10:41:38.049468Z",
     "iopub.status.idle": "2025-06-26T10:41:39.341091Z",
     "shell.execute_reply": "2025-06-26T10:41:39.340002Z"
    },
    "papermill": {
     "duration": 1.340824,
     "end_time": "2025-06-26T10:41:39.343134",
     "exception": false,
     "start_time": "2025-06-26T10:41:38.002310",
     "status": "completed"
    },
    "tags": []
   },
   "outputs": [
    {
     "name": "stdout",
     "output_type": "stream",
     "text": [
      "\u001b[1m394/394\u001b[0m \u001b[32m━━━━━━━━━━━━━━━━━━━━\u001b[0m\u001b[37m\u001b[0m \u001b[1m1s\u001b[0m 2ms/step\n"
     ]
    }
   ],
   "source": [
    "ypred = model.predict(x_test )"
   ]
  },
  {
   "cell_type": "code",
   "execution_count": 13,
   "id": "72bbe4fd",
   "metadata": {
    "execution": {
     "iopub.execute_input": "2025-06-26T10:41:39.502490Z",
     "iopub.status.busy": "2025-06-26T10:41:39.502122Z",
     "iopub.status.idle": "2025-06-26T10:41:39.508585Z",
     "shell.execute_reply": "2025-06-26T10:41:39.507466Z"
    },
    "papermill": {
     "duration": 0.120024,
     "end_time": "2025-06-26T10:41:39.510726",
     "exception": false,
     "start_time": "2025-06-26T10:41:39.390702",
     "status": "completed"
    },
    "tags": []
   },
   "outputs": [
    {
     "name": "stdout",
     "output_type": "stream",
     "text": [
      "[3 7 2 ... 9 3 1]\n"
     ]
    }
   ],
   "source": [
    "predictedLabels = np.argmax(ypred,axis=1)\n",
    "print(predictedLabels)"
   ]
  },
  {
   "cell_type": "code",
   "execution_count": 14,
   "id": "abe774ed",
   "metadata": {
    "execution": {
     "iopub.execute_input": "2025-06-26T10:41:39.605625Z",
     "iopub.status.busy": "2025-06-26T10:41:39.605102Z",
     "iopub.status.idle": "2025-06-26T10:42:21.592621Z",
     "shell.execute_reply": "2025-06-26T10:42:21.591422Z"
    },
    "papermill": {
     "duration": 42.036191,
     "end_time": "2025-06-26T10:42:21.594240",
     "exception": false,
     "start_time": "2025-06-26T10:41:39.558049",
     "status": "completed"
    },
    "tags": []
   },
   "outputs": [
    {
     "name": "stdout",
     "output_type": "stream",
     "text": [
      "Downloading data from https://storage.googleapis.com/tensorflow/keras-applications/mobilenet_v2/mobilenet_v2_weights_tf_dim_ordering_tf_kernels_1.0_224.h5\n",
      "\u001b[1m14536120/14536120\u001b[0m \u001b[32m━━━━━━━━━━━━━━━━━━━━\u001b[0m\u001b[37m\u001b[0m \u001b[1m1s\u001b[0m 0us/step\n",
      "Epoch 1/10\n",
      "\u001b[1m919/919\u001b[0m \u001b[32m━━━━━━━━━━━━━━━━━━━━\u001b[0m\u001b[37m\u001b[0m \u001b[1m4s\u001b[0m 4ms/step - accuracy: 0.9939 - loss: 0.0204\n",
      "Epoch 2/10\n",
      "\u001b[1m919/919\u001b[0m \u001b[32m━━━━━━━━━━━━━━━━━━━━\u001b[0m\u001b[37m\u001b[0m \u001b[1m4s\u001b[0m 4ms/step - accuracy: 0.9940 - loss: 0.0194\n",
      "Epoch 3/10\n",
      "\u001b[1m919/919\u001b[0m \u001b[32m━━━━━━━━━━━━━━━━━━━━\u001b[0m\u001b[37m\u001b[0m \u001b[1m4s\u001b[0m 4ms/step - accuracy: 0.9927 - loss: 0.0261\n",
      "Epoch 4/10\n",
      "\u001b[1m919/919\u001b[0m \u001b[32m━━━━━━━━━━━━━━━━━━━━\u001b[0m\u001b[37m\u001b[0m \u001b[1m4s\u001b[0m 4ms/step - accuracy: 0.9951 - loss: 0.0189\n",
      "Epoch 5/10\n",
      "\u001b[1m919/919\u001b[0m \u001b[32m━━━━━━━━━━━━━━━━━━━━\u001b[0m\u001b[37m\u001b[0m \u001b[1m4s\u001b[0m 4ms/step - accuracy: 0.9951 - loss: 0.0178\n",
      "Epoch 6/10\n",
      "\u001b[1m919/919\u001b[0m \u001b[32m━━━━━━━━━━━━━━━━━━━━\u001b[0m\u001b[37m\u001b[0m \u001b[1m4s\u001b[0m 4ms/step - accuracy: 0.9942 - loss: 0.0199\n",
      "Epoch 7/10\n",
      "\u001b[1m919/919\u001b[0m \u001b[32m━━━━━━━━━━━━━━━━━━━━\u001b[0m\u001b[37m\u001b[0m \u001b[1m4s\u001b[0m 4ms/step - accuracy: 0.9945 - loss: 0.0174\n",
      "Epoch 8/10\n",
      "\u001b[1m919/919\u001b[0m \u001b[32m━━━━━━━━━━━━━━━━━━━━\u001b[0m\u001b[37m\u001b[0m \u001b[1m4s\u001b[0m 4ms/step - accuracy: 0.9939 - loss: 0.0204\n",
      "Epoch 9/10\n",
      "\u001b[1m919/919\u001b[0m \u001b[32m━━━━━━━━━━━━━━━━━━━━\u001b[0m\u001b[37m\u001b[0m \u001b[1m4s\u001b[0m 4ms/step - accuracy: 0.9948 - loss: 0.0202\n",
      "Epoch 10/10\n",
      "\u001b[1m919/919\u001b[0m \u001b[32m━━━━━━━━━━━━━━━━━━━━\u001b[0m\u001b[37m\u001b[0m \u001b[1m5s\u001b[0m 4ms/step - accuracy: 0.9979 - loss: 0.0070\n",
      "\u001b[1m394/394\u001b[0m \u001b[32m━━━━━━━━━━━━━━━━━━━━\u001b[0m\u001b[37m\u001b[0m \u001b[1m1s\u001b[0m 3ms/step - accuracy: 0.9035 - loss: 60.9854\n",
      "Loss: 33.57827377319336 Accuracy: 0.9158729910850525\n"
     ]
    }
   ],
   "source": [
    "base_model = MobileNetV2(weights=\"imagenet\", input_shape=(224,224,3))\n",
    "base_model.trainable = False\n",
    "model2 = Sequential([\n",
    "    base_model,\n",
    "    Flatten(),\n",
    "    Dense(128, activation=\"relu\"),\n",
    "    Dense(32,activation=\"relu\"),\n",
    "    Dense(10, activation=\"softmax\")\n",
    "])\n",
    "model2.compile(optimizer=\"adam\", loss=\"categorical_crossentropy\", metrics=['accuracy'])\n",
    "model.fit(xScaled,y_train, epochs=10)\n",
    "tesT_loss, test_accuracy = model.evaluate(x_test,y_test)\n",
    "print(\"Loss:\",loss, \"Accuracy:\", accuracy)"
   ]
  },
  {
   "cell_type": "code",
   "execution_count": null,
   "id": "bb716218",
   "metadata": {
    "papermill": {
     "duration": 0.094705,
     "end_time": "2025-06-26T10:42:21.781914",
     "exception": false,
     "start_time": "2025-06-26T10:42:21.687209",
     "status": "completed"
    },
    "tags": []
   },
   "outputs": [],
   "source": []
  }
 ],
 "metadata": {
  "kaggle": {
   "accelerator": "none",
   "dataSources": [
    {
     "databundleVersionId": 861823,
     "sourceId": 3004,
     "sourceType": "competition"
    }
   ],
   "dockerImageVersionId": 31040,
   "isGpuEnabled": false,
   "isInternetEnabled": true,
   "language": "python",
   "sourceType": "notebook"
  },
  "kernelspec": {
   "display_name": "Python 3",
   "language": "python",
   "name": "python3"
  },
  "language_info": {
   "codemirror_mode": {
    "name": "ipython",
    "version": 3
   },
   "file_extension": ".py",
   "mimetype": "text/x-python",
   "name": "python",
   "nbconvert_exporter": "python",
   "pygments_lexer": "ipython3",
   "version": "3.11.11"
  },
  "papermill": {
   "default_parameters": {},
   "duration": 120.378949,
   "end_time": "2025-06-26T10:42:24.770897",
   "environment_variables": {},
   "exception": null,
   "input_path": "__notebook__.ipynb",
   "output_path": "__notebook__.ipynb",
   "parameters": {},
   "start_time": "2025-06-26T10:40:24.391948",
   "version": "2.6.0"
  }
 },
 "nbformat": 4,
 "nbformat_minor": 5
}
