{
 "cells": [
  {
   "cell_type": "code",
   "execution_count": 1,
   "id": "14a7a249",
   "metadata": {
    "_cell_guid": "b1076dfc-b9ad-4769-8c92-a6c4dae69d19",
    "_uuid": "8f2839f25d086af736a60e9eeb907d3b93b6e0e5",
    "execution": {
     "iopub.execute_input": "2025-07-19T07:10:32.250560Z",
     "iopub.status.busy": "2025-07-19T07:10:32.249825Z",
     "iopub.status.idle": "2025-07-19T07:10:33.095010Z",
     "shell.execute_reply": "2025-07-19T07:10:33.093778Z"
    },
    "papermill": {
     "duration": 0.853081,
     "end_time": "2025-07-19T07:10:33.096739",
     "exception": false,
     "start_time": "2025-07-19T07:10:32.243658",
     "status": "completed"
    },
    "tags": []
   },
   "outputs": [
    {
     "name": "stdout",
     "output_type": "stream",
     "text": [
      "/kaggle/input/sms-spam-collection-dataset/spam.csv\n"
     ]
    }
   ],
   "source": [
    "# This Python 3 environment comes with many helpful analytics libraries installed\n",
    "# It is defined by the kaggle/python Docker image: https://github.com/kaggle/docker-python\n",
    "# For example, here's several helpful packages to load\n",
    "\n",
    "import numpy as np # linear algebra\n",
    "import pandas as pd # data processing, CSV file I/O (e.g. pd.read_csv)\n",
    "\n",
    "# Input data files are available in the read-only \"../input/\" directory\n",
    "# For example, running this (by clicking run or pressing Shift+Enter) will list all files under the input directory\n",
    "\n",
    "import os\n",
    "for dirname, _, filenames in os.walk('/kaggle/input'):\n",
    "    for filename in filenames:\n",
    "        print(os.path.join(dirname, filename))\n",
    "\n",
    "# You can write up to 20GB to the current directory (/kaggle/working/) that gets preserved as output when you create a version using \"Save & Run All\" \n",
    "# You can also write temporary files to /kaggle/temp/, but they won't be saved outside of the current session"
   ]
  },
  {
   "cell_type": "code",
   "execution_count": 2,
   "id": "2616fc54",
   "metadata": {
    "execution": {
     "iopub.execute_input": "2025-07-19T07:10:33.106441Z",
     "iopub.status.busy": "2025-07-19T07:10:33.105950Z",
     "iopub.status.idle": "2025-07-19T07:10:33.148693Z",
     "shell.execute_reply": "2025-07-19T07:10:33.147743Z"
    },
    "papermill": {
     "duration": 0.049296,
     "end_time": "2025-07-19T07:10:33.150453",
     "exception": false,
     "start_time": "2025-07-19T07:10:33.101157",
     "status": "completed"
    },
    "tags": []
   },
   "outputs": [],
   "source": [
    "data = pd.read_csv(\"/kaggle/input/sms-spam-collection-dataset/spam.csv\",encoding=\"latin1\")"
   ]
  },
  {
   "cell_type": "code",
   "execution_count": 3,
   "id": "c1813731",
   "metadata": {
    "execution": {
     "iopub.execute_input": "2025-07-19T07:10:33.159797Z",
     "iopub.status.busy": "2025-07-19T07:10:33.159512Z",
     "iopub.status.idle": "2025-07-19T07:10:33.182846Z",
     "shell.execute_reply": "2025-07-19T07:10:33.181837Z"
    },
    "papermill": {
     "duration": 0.029844,
     "end_time": "2025-07-19T07:10:33.184541",
     "exception": false,
     "start_time": "2025-07-19T07:10:33.154697",
     "status": "completed"
    },
    "tags": []
   },
   "outputs": [
    {
     "data": {
      "text/html": [
       "<div>\n",
       "<style scoped>\n",
       "    .dataframe tbody tr th:only-of-type {\n",
       "        vertical-align: middle;\n",
       "    }\n",
       "\n",
       "    .dataframe tbody tr th {\n",
       "        vertical-align: top;\n",
       "    }\n",
       "\n",
       "    .dataframe thead th {\n",
       "        text-align: right;\n",
       "    }\n",
       "</style>\n",
       "<table border=\"1\" class=\"dataframe\">\n",
       "  <thead>\n",
       "    <tr style=\"text-align: right;\">\n",
       "      <th></th>\n",
       "      <th>v1</th>\n",
       "      <th>v2</th>\n",
       "      <th>Unnamed: 2</th>\n",
       "      <th>Unnamed: 3</th>\n",
       "      <th>Unnamed: 4</th>\n",
       "    </tr>\n",
       "  </thead>\n",
       "  <tbody>\n",
       "    <tr>\n",
       "      <th>0</th>\n",
       "      <td>ham</td>\n",
       "      <td>Go until jurong point, crazy.. Available only ...</td>\n",
       "      <td>NaN</td>\n",
       "      <td>NaN</td>\n",
       "      <td>NaN</td>\n",
       "    </tr>\n",
       "    <tr>\n",
       "      <th>1</th>\n",
       "      <td>ham</td>\n",
       "      <td>Ok lar... Joking wif u oni...</td>\n",
       "      <td>NaN</td>\n",
       "      <td>NaN</td>\n",
       "      <td>NaN</td>\n",
       "    </tr>\n",
       "    <tr>\n",
       "      <th>2</th>\n",
       "      <td>spam</td>\n",
       "      <td>Free entry in 2 a wkly comp to win FA Cup fina...</td>\n",
       "      <td>NaN</td>\n",
       "      <td>NaN</td>\n",
       "      <td>NaN</td>\n",
       "    </tr>\n",
       "    <tr>\n",
       "      <th>3</th>\n",
       "      <td>ham</td>\n",
       "      <td>U dun say so early hor... U c already then say...</td>\n",
       "      <td>NaN</td>\n",
       "      <td>NaN</td>\n",
       "      <td>NaN</td>\n",
       "    </tr>\n",
       "    <tr>\n",
       "      <th>4</th>\n",
       "      <td>ham</td>\n",
       "      <td>Nah I don't think he goes to usf, he lives aro...</td>\n",
       "      <td>NaN</td>\n",
       "      <td>NaN</td>\n",
       "      <td>NaN</td>\n",
       "    </tr>\n",
       "  </tbody>\n",
       "</table>\n",
       "</div>"
      ],
      "text/plain": [
       "     v1                                                 v2 Unnamed: 2  \\\n",
       "0   ham  Go until jurong point, crazy.. Available only ...        NaN   \n",
       "1   ham                      Ok lar... Joking wif u oni...        NaN   \n",
       "2  spam  Free entry in 2 a wkly comp to win FA Cup fina...        NaN   \n",
       "3   ham  U dun say so early hor... U c already then say...        NaN   \n",
       "4   ham  Nah I don't think he goes to usf, he lives aro...        NaN   \n",
       "\n",
       "  Unnamed: 3 Unnamed: 4  \n",
       "0        NaN        NaN  \n",
       "1        NaN        NaN  \n",
       "2        NaN        NaN  \n",
       "3        NaN        NaN  \n",
       "4        NaN        NaN  "
      ]
     },
     "execution_count": 3,
     "metadata": {},
     "output_type": "execute_result"
    }
   ],
   "source": [
    "data.head()"
   ]
  },
  {
   "cell_type": "code",
   "execution_count": 4,
   "id": "80cb90ac",
   "metadata": {
    "execution": {
     "iopub.execute_input": "2025-07-19T07:10:33.194002Z",
     "iopub.status.busy": "2025-07-19T07:10:33.193723Z",
     "iopub.status.idle": "2025-07-19T07:10:33.201954Z",
     "shell.execute_reply": "2025-07-19T07:10:33.201147Z"
    },
    "papermill": {
     "duration": 0.014512,
     "end_time": "2025-07-19T07:10:33.203369",
     "exception": false,
     "start_time": "2025-07-19T07:10:33.188857",
     "status": "completed"
    },
    "tags": []
   },
   "outputs": [
    {
     "data": {
      "text/html": [
       "<div>\n",
       "<style scoped>\n",
       "    .dataframe tbody tr th:only-of-type {\n",
       "        vertical-align: middle;\n",
       "    }\n",
       "\n",
       "    .dataframe tbody tr th {\n",
       "        vertical-align: top;\n",
       "    }\n",
       "\n",
       "    .dataframe thead th {\n",
       "        text-align: right;\n",
       "    }\n",
       "</style>\n",
       "<table border=\"1\" class=\"dataframe\">\n",
       "  <thead>\n",
       "    <tr style=\"text-align: right;\">\n",
       "      <th></th>\n",
       "      <th>v1</th>\n",
       "      <th>v2</th>\n",
       "    </tr>\n",
       "  </thead>\n",
       "  <tbody>\n",
       "    <tr>\n",
       "      <th>0</th>\n",
       "      <td>ham</td>\n",
       "      <td>Go until jurong point, crazy.. Available only ...</td>\n",
       "    </tr>\n",
       "    <tr>\n",
       "      <th>1</th>\n",
       "      <td>ham</td>\n",
       "      <td>Ok lar... Joking wif u oni...</td>\n",
       "    </tr>\n",
       "    <tr>\n",
       "      <th>2</th>\n",
       "      <td>spam</td>\n",
       "      <td>Free entry in 2 a wkly comp to win FA Cup fina...</td>\n",
       "    </tr>\n",
       "    <tr>\n",
       "      <th>3</th>\n",
       "      <td>ham</td>\n",
       "      <td>U dun say so early hor... U c already then say...</td>\n",
       "    </tr>\n",
       "    <tr>\n",
       "      <th>4</th>\n",
       "      <td>ham</td>\n",
       "      <td>Nah I don't think he goes to usf, he lives aro...</td>\n",
       "    </tr>\n",
       "  </tbody>\n",
       "</table>\n",
       "</div>"
      ],
      "text/plain": [
       "     v1                                                 v2\n",
       "0   ham  Go until jurong point, crazy.. Available only ...\n",
       "1   ham                      Ok lar... Joking wif u oni...\n",
       "2  spam  Free entry in 2 a wkly comp to win FA Cup fina...\n",
       "3   ham  U dun say so early hor... U c already then say...\n",
       "4   ham  Nah I don't think he goes to usf, he lives aro..."
      ]
     },
     "execution_count": 4,
     "metadata": {},
     "output_type": "execute_result"
    }
   ],
   "source": [
    "data = data.iloc[:,:2]\n",
    "data.head()"
   ]
  },
  {
   "cell_type": "code",
   "execution_count": 5,
   "id": "acd28c4f",
   "metadata": {
    "execution": {
     "iopub.execute_input": "2025-07-19T07:10:33.212807Z",
     "iopub.status.busy": "2025-07-19T07:10:33.212551Z",
     "iopub.status.idle": "2025-07-19T07:10:33.216269Z",
     "shell.execute_reply": "2025-07-19T07:10:33.215605Z"
    },
    "papermill": {
     "duration": 0.010024,
     "end_time": "2025-07-19T07:10:33.217727",
     "exception": false,
     "start_time": "2025-07-19T07:10:33.207703",
     "status": "completed"
    },
    "tags": []
   },
   "outputs": [],
   "source": [
    "data.columns = [\"label\",\"message\"]"
   ]
  },
  {
   "cell_type": "code",
   "execution_count": 6,
   "id": "aaa2850a",
   "metadata": {
    "execution": {
     "iopub.execute_input": "2025-07-19T07:10:33.227129Z",
     "iopub.status.busy": "2025-07-19T07:10:33.226795Z",
     "iopub.status.idle": "2025-07-19T07:10:33.234957Z",
     "shell.execute_reply": "2025-07-19T07:10:33.233868Z"
    },
    "papermill": {
     "duration": 0.014814,
     "end_time": "2025-07-19T07:10:33.236714",
     "exception": false,
     "start_time": "2025-07-19T07:10:33.221900",
     "status": "completed"
    },
    "tags": []
   },
   "outputs": [
    {
     "data": {
      "text/html": [
       "<div>\n",
       "<style scoped>\n",
       "    .dataframe tbody tr th:only-of-type {\n",
       "        vertical-align: middle;\n",
       "    }\n",
       "\n",
       "    .dataframe tbody tr th {\n",
       "        vertical-align: top;\n",
       "    }\n",
       "\n",
       "    .dataframe thead th {\n",
       "        text-align: right;\n",
       "    }\n",
       "</style>\n",
       "<table border=\"1\" class=\"dataframe\">\n",
       "  <thead>\n",
       "    <tr style=\"text-align: right;\">\n",
       "      <th></th>\n",
       "      <th>label</th>\n",
       "      <th>message</th>\n",
       "    </tr>\n",
       "  </thead>\n",
       "  <tbody>\n",
       "    <tr>\n",
       "      <th>0</th>\n",
       "      <td>ham</td>\n",
       "      <td>Go until jurong point, crazy.. Available only ...</td>\n",
       "    </tr>\n",
       "    <tr>\n",
       "      <th>1</th>\n",
       "      <td>ham</td>\n",
       "      <td>Ok lar... Joking wif u oni...</td>\n",
       "    </tr>\n",
       "    <tr>\n",
       "      <th>2</th>\n",
       "      <td>spam</td>\n",
       "      <td>Free entry in 2 a wkly comp to win FA Cup fina...</td>\n",
       "    </tr>\n",
       "    <tr>\n",
       "      <th>3</th>\n",
       "      <td>ham</td>\n",
       "      <td>U dun say so early hor... U c already then say...</td>\n",
       "    </tr>\n",
       "    <tr>\n",
       "      <th>4</th>\n",
       "      <td>ham</td>\n",
       "      <td>Nah I don't think he goes to usf, he lives aro...</td>\n",
       "    </tr>\n",
       "  </tbody>\n",
       "</table>\n",
       "</div>"
      ],
      "text/plain": [
       "  label                                            message\n",
       "0   ham  Go until jurong point, crazy.. Available only ...\n",
       "1   ham                      Ok lar... Joking wif u oni...\n",
       "2  spam  Free entry in 2 a wkly comp to win FA Cup fina...\n",
       "3   ham  U dun say so early hor... U c already then say...\n",
       "4   ham  Nah I don't think he goes to usf, he lives aro..."
      ]
     },
     "execution_count": 6,
     "metadata": {},
     "output_type": "execute_result"
    }
   ],
   "source": [
    "data.head()"
   ]
  },
  {
   "cell_type": "code",
   "execution_count": 7,
   "id": "58088780",
   "metadata": {
    "execution": {
     "iopub.execute_input": "2025-07-19T07:10:33.246516Z",
     "iopub.status.busy": "2025-07-19T07:10:33.246244Z",
     "iopub.status.idle": "2025-07-19T07:10:35.231496Z",
     "shell.execute_reply": "2025-07-19T07:10:35.230409Z"
    },
    "papermill": {
     "duration": 1.991789,
     "end_time": "2025-07-19T07:10:35.232982",
     "exception": false,
     "start_time": "2025-07-19T07:10:33.241193",
     "status": "completed"
    },
    "tags": []
   },
   "outputs": [
    {
     "name": "stdout",
     "output_type": "stream",
     "text": [
      "[nltk_data] Error loading stopdowrds: Package 'stopdowrds' not found\n",
      "[nltk_data]     in index\n"
     ]
    },
    {
     "data": {
      "text/plain": [
       "'for i in stopWords:\\n    print(i)'"
      ]
     },
     "execution_count": 7,
     "metadata": {},
     "output_type": "execute_result"
    }
   ],
   "source": [
    "import re\n",
    "import nltk\n",
    "from nltk.corpus import stopwords\n",
    "from nltk.stem import PorterStemmer\n",
    "\n",
    "nltk.download(\"stopdowrds\")\n",
    "ps = PorterStemmer()\n",
    "stopWords = set(stopwords.words(\"english\"))\n",
    "'''for i in stopWords:\n",
    "    print(i)'''"
   ]
  },
  {
   "cell_type": "code",
   "execution_count": 8,
   "id": "99455f8b",
   "metadata": {
    "execution": {
     "iopub.execute_input": "2025-07-19T07:10:35.243790Z",
     "iopub.status.busy": "2025-07-19T07:10:35.243351Z",
     "iopub.status.idle": "2025-07-19T07:10:35.247934Z",
     "shell.execute_reply": "2025-07-19T07:10:35.247172Z"
    },
    "papermill": {
     "duration": 0.011462,
     "end_time": "2025-07-19T07:10:35.249393",
     "exception": false,
     "start_time": "2025-07-19T07:10:35.237931",
     "status": "completed"
    },
    "tags": []
   },
   "outputs": [],
   "source": [
    "def tockenization(text):\n",
    "    text = text.lower()\n",
    "    text = re.sub(r\"\\W\",\" \",text)\n",
    "    text = text.split()\n",
    "    newWords = []\n",
    "    for word in text:\n",
    "        if word not in stopWords:\n",
    "            newWords.append(word)\n",
    "    return \" \".join(newWords)\n",
    "    \n",
    "\n",
    "    \n",
    "    "
   ]
  },
  {
   "cell_type": "code",
   "execution_count": 9,
   "id": "078dd5b7",
   "metadata": {
    "execution": {
     "iopub.execute_input": "2025-07-19T07:10:35.259422Z",
     "iopub.status.busy": "2025-07-19T07:10:35.259144Z",
     "iopub.status.idle": "2025-07-19T07:10:35.263451Z",
     "shell.execute_reply": "2025-07-19T07:10:35.262442Z"
    },
    "papermill": {
     "duration": 0.010945,
     "end_time": "2025-07-19T07:10:35.264963",
     "exception": false,
     "start_time": "2025-07-19T07:10:35.254018",
     "status": "completed"
    },
    "tags": []
   },
   "outputs": [
    {
     "name": "stdout",
     "output_type": "stream",
     "text": [
      "hello world python\n"
     ]
    }
   ],
   "source": [
    "sentence = \"Hello world, this is python.\"\n",
    "print(tockenization(sentence))"
   ]
  },
  {
   "cell_type": "code",
   "execution_count": 10,
   "id": "729cf13f",
   "metadata": {
    "execution": {
     "iopub.execute_input": "2025-07-19T07:10:35.274973Z",
     "iopub.status.busy": "2025-07-19T07:10:35.274668Z",
     "iopub.status.idle": "2025-07-19T07:10:35.340133Z",
     "shell.execute_reply": "2025-07-19T07:10:35.339082Z"
    },
    "papermill": {
     "duration": 0.072511,
     "end_time": "2025-07-19T07:10:35.342100",
     "exception": false,
     "start_time": "2025-07-19T07:10:35.269589",
     "status": "completed"
    },
    "tags": []
   },
   "outputs": [],
   "source": [
    "data[\"message\"] = data[\"message\"].apply(tockenization)"
   ]
  },
  {
   "cell_type": "code",
   "execution_count": 11,
   "id": "ead58ede",
   "metadata": {
    "execution": {
     "iopub.execute_input": "2025-07-19T07:10:35.352731Z",
     "iopub.status.busy": "2025-07-19T07:10:35.352444Z",
     "iopub.status.idle": "2025-07-19T07:10:35.360570Z",
     "shell.execute_reply": "2025-07-19T07:10:35.359754Z"
    },
    "papermill": {
     "duration": 0.01482,
     "end_time": "2025-07-19T07:10:35.361900",
     "exception": false,
     "start_time": "2025-07-19T07:10:35.347080",
     "status": "completed"
    },
    "tags": []
   },
   "outputs": [
    {
     "data": {
      "text/html": [
       "<div>\n",
       "<style scoped>\n",
       "    .dataframe tbody tr th:only-of-type {\n",
       "        vertical-align: middle;\n",
       "    }\n",
       "\n",
       "    .dataframe tbody tr th {\n",
       "        vertical-align: top;\n",
       "    }\n",
       "\n",
       "    .dataframe thead th {\n",
       "        text-align: right;\n",
       "    }\n",
       "</style>\n",
       "<table border=\"1\" class=\"dataframe\">\n",
       "  <thead>\n",
       "    <tr style=\"text-align: right;\">\n",
       "      <th></th>\n",
       "      <th>label</th>\n",
       "      <th>message</th>\n",
       "    </tr>\n",
       "  </thead>\n",
       "  <tbody>\n",
       "    <tr>\n",
       "      <th>0</th>\n",
       "      <td>ham</td>\n",
       "      <td>go jurong point crazy available bugis n great ...</td>\n",
       "    </tr>\n",
       "    <tr>\n",
       "      <th>1</th>\n",
       "      <td>ham</td>\n",
       "      <td>ok lar joking wif u oni</td>\n",
       "    </tr>\n",
       "    <tr>\n",
       "      <th>2</th>\n",
       "      <td>spam</td>\n",
       "      <td>free entry 2 wkly comp win fa cup final tkts 2...</td>\n",
       "    </tr>\n",
       "    <tr>\n",
       "      <th>3</th>\n",
       "      <td>ham</td>\n",
       "      <td>u dun say early hor u c already say</td>\n",
       "    </tr>\n",
       "    <tr>\n",
       "      <th>4</th>\n",
       "      <td>ham</td>\n",
       "      <td>nah think goes usf lives around though</td>\n",
       "    </tr>\n",
       "  </tbody>\n",
       "</table>\n",
       "</div>"
      ],
      "text/plain": [
       "  label                                            message\n",
       "0   ham  go jurong point crazy available bugis n great ...\n",
       "1   ham                            ok lar joking wif u oni\n",
       "2  spam  free entry 2 wkly comp win fa cup final tkts 2...\n",
       "3   ham                u dun say early hor u c already say\n",
       "4   ham             nah think goes usf lives around though"
      ]
     },
     "execution_count": 11,
     "metadata": {},
     "output_type": "execute_result"
    }
   ],
   "source": [
    "data.head()"
   ]
  },
  {
   "cell_type": "code",
   "execution_count": 12,
   "id": "a1132d67",
   "metadata": {
    "execution": {
     "iopub.execute_input": "2025-07-19T07:10:35.372795Z",
     "iopub.status.busy": "2025-07-19T07:10:35.372512Z",
     "iopub.status.idle": "2025-07-19T07:10:35.377508Z",
     "shell.execute_reply": "2025-07-19T07:10:35.376508Z"
    },
    "papermill": {
     "duration": 0.012281,
     "end_time": "2025-07-19T07:10:35.378989",
     "exception": false,
     "start_time": "2025-07-19T07:10:35.366708",
     "status": "completed"
    },
    "tags": []
   },
   "outputs": [
    {
     "name": "stdout",
     "output_type": "stream",
     "text": [
      "A#a#m#a#e#y\n",
      "Hey This is Python\n"
     ]
    }
   ],
   "source": [
    "print(\"#\".join(\"Aamaey\"))\n",
    "print(\" \".join([\"Hey\",\"This\",\"is\",\"Python\"]))"
   ]
  },
  {
   "cell_type": "code",
   "execution_count": 13,
   "id": "201540f9",
   "metadata": {
    "execution": {
     "iopub.execute_input": "2025-07-19T07:10:35.389822Z",
     "iopub.status.busy": "2025-07-19T07:10:35.389522Z",
     "iopub.status.idle": "2025-07-19T07:10:35.670224Z",
     "shell.execute_reply": "2025-07-19T07:10:35.669357Z"
    },
    "papermill": {
     "duration": 0.288068,
     "end_time": "2025-07-19T07:10:35.671972",
     "exception": false,
     "start_time": "2025-07-19T07:10:35.383904",
     "status": "completed"
    },
    "tags": []
   },
   "outputs": [],
   "source": [
    "from sklearn.feature_extraction.text import TfidfVectorizer\n",
    "\n",
    "vector = TfidfVectorizer(max_features = 5000)\n",
    "x = vector.fit_transform(data[\"message\"]).toarray()\n",
    "y = data[\"label\"]"
   ]
  },
  {
   "cell_type": "code",
   "execution_count": 14,
   "id": "19572a09",
   "metadata": {
    "execution": {
     "iopub.execute_input": "2025-07-19T07:10:35.683158Z",
     "iopub.status.busy": "2025-07-19T07:10:35.682761Z",
     "iopub.status.idle": "2025-07-19T07:10:35.689583Z",
     "shell.execute_reply": "2025-07-19T07:10:35.688602Z"
    },
    "papermill": {
     "duration": 0.013878,
     "end_time": "2025-07-19T07:10:35.690984",
     "exception": false,
     "start_time": "2025-07-19T07:10:35.677106",
     "status": "completed"
    },
    "tags": []
   },
   "outputs": [
    {
     "data": {
      "text/plain": [
       "0        ham\n",
       "1        ham\n",
       "2       spam\n",
       "3        ham\n",
       "4        ham\n",
       "        ... \n",
       "5567    spam\n",
       "5568     ham\n",
       "5569     ham\n",
       "5570     ham\n",
       "5571     ham\n",
       "Name: label, Length: 5572, dtype: object"
      ]
     },
     "execution_count": 14,
     "metadata": {},
     "output_type": "execute_result"
    }
   ],
   "source": [
    "y"
   ]
  },
  {
   "cell_type": "code",
   "execution_count": 15,
   "id": "c09be537",
   "metadata": {
    "execution": {
     "iopub.execute_input": "2025-07-19T07:10:35.701821Z",
     "iopub.status.busy": "2025-07-19T07:10:35.701549Z",
     "iopub.status.idle": "2025-07-19T07:10:35.713353Z",
     "shell.execute_reply": "2025-07-19T07:10:35.712408Z"
    },
    "papermill": {
     "duration": 0.018741,
     "end_time": "2025-07-19T07:10:35.714839",
     "exception": false,
     "start_time": "2025-07-19T07:10:35.696098",
     "status": "completed"
    },
    "tags": []
   },
   "outputs": [
    {
     "data": {
      "text/html": [
       "<div>\n",
       "<style scoped>\n",
       "    .dataframe tbody tr th:only-of-type {\n",
       "        vertical-align: middle;\n",
       "    }\n",
       "\n",
       "    .dataframe tbody tr th {\n",
       "        vertical-align: top;\n",
       "    }\n",
       "\n",
       "    .dataframe thead th {\n",
       "        text-align: right;\n",
       "    }\n",
       "</style>\n",
       "<table border=\"1\" class=\"dataframe\">\n",
       "  <thead>\n",
       "    <tr style=\"text-align: right;\">\n",
       "      <th></th>\n",
       "      <th>label</th>\n",
       "      <th>message</th>\n",
       "    </tr>\n",
       "  </thead>\n",
       "  <tbody>\n",
       "    <tr>\n",
       "      <th>0</th>\n",
       "      <td>1</td>\n",
       "      <td>go jurong point crazy available bugis n great ...</td>\n",
       "    </tr>\n",
       "    <tr>\n",
       "      <th>1</th>\n",
       "      <td>1</td>\n",
       "      <td>ok lar joking wif u oni</td>\n",
       "    </tr>\n",
       "    <tr>\n",
       "      <th>2</th>\n",
       "      <td>0</td>\n",
       "      <td>free entry 2 wkly comp win fa cup final tkts 2...</td>\n",
       "    </tr>\n",
       "    <tr>\n",
       "      <th>3</th>\n",
       "      <td>1</td>\n",
       "      <td>u dun say early hor u c already say</td>\n",
       "    </tr>\n",
       "    <tr>\n",
       "      <th>4</th>\n",
       "      <td>1</td>\n",
       "      <td>nah think goes usf lives around though</td>\n",
       "    </tr>\n",
       "  </tbody>\n",
       "</table>\n",
       "</div>"
      ],
      "text/plain": [
       "   label                                            message\n",
       "0      1  go jurong point crazy available bugis n great ...\n",
       "1      1                            ok lar joking wif u oni\n",
       "2      0  free entry 2 wkly comp win fa cup final tkts 2...\n",
       "3      1                u dun say early hor u c already say\n",
       "4      1             nah think goes usf lives around though"
      ]
     },
     "execution_count": 15,
     "metadata": {},
     "output_type": "execute_result"
    }
   ],
   "source": [
    "labelDict = {\"ham\":1, \"spam\":0}\n",
    "data[\"label\"]=data[\"label\"].map(labelDict)\n",
    "data.head()"
   ]
  },
  {
   "cell_type": "code",
   "execution_count": 16,
   "id": "9f2a4e10",
   "metadata": {
    "execution": {
     "iopub.execute_input": "2025-07-19T07:10:35.726837Z",
     "iopub.status.busy": "2025-07-19T07:10:35.726551Z",
     "iopub.status.idle": "2025-07-19T07:10:35.866349Z",
     "shell.execute_reply": "2025-07-19T07:10:35.865471Z"
    },
    "papermill": {
     "duration": 0.147881,
     "end_time": "2025-07-19T07:10:35.868074",
     "exception": false,
     "start_time": "2025-07-19T07:10:35.720193",
     "status": "completed"
    },
    "tags": []
   },
   "outputs": [],
   "source": [
    "from sklearn.model_selection import train_test_split\n",
    "x_train, y_train, x_test, y_test = train_test_split(x, y, test_size=0.2, random_state=10)"
   ]
  },
  {
   "cell_type": "code",
   "execution_count": null,
   "id": "8363ebce",
   "metadata": {
    "papermill": {
     "duration": 0.004827,
     "end_time": "2025-07-19T07:10:35.878224",
     "exception": false,
     "start_time": "2025-07-19T07:10:35.873397",
     "status": "completed"
    },
    "tags": []
   },
   "outputs": [],
   "source": []
  },
  {
   "cell_type": "markdown",
   "id": "83871029",
   "metadata": {
    "papermill": {
     "duration": 0.004833,
     "end_time": "2025-07-19T07:10:35.888177",
     "exception": false,
     "start_time": "2025-07-19T07:10:35.883344",
     "status": "completed"
    },
    "tags": []
   },
   "source": [
    "naive bayes\n",
    "SVM\n",
    "decision tree classifier\n",
    "h"
   ]
  }
 ],
 "metadata": {
  "kaggle": {
   "accelerator": "none",
   "dataSources": [
    {
     "datasetId": 483,
     "sourceId": 982,
     "sourceType": "datasetVersion"
    }
   ],
   "dockerImageVersionId": 30886,
   "isGpuEnabled": false,
   "isInternetEnabled": true,
   "language": "python",
   "sourceType": "notebook"
  },
  "kernelspec": {
   "display_name": "Python 3",
   "language": "python",
   "name": "python3"
  },
  "language_info": {
   "codemirror_mode": {
    "name": "ipython",
    "version": 3
   },
   "file_extension": ".py",
   "mimetype": "text/x-python",
   "name": "python",
   "nbconvert_exporter": "python",
   "pygments_lexer": "ipython3",
   "version": "3.10.12"
  },
  "papermill": {
   "default_parameters": {},
   "duration": 7.429068,
   "end_time": "2025-07-19T07:10:36.613172",
   "environment_variables": {},
   "exception": null,
   "input_path": "__notebook__.ipynb",
   "output_path": "__notebook__.ipynb",
   "parameters": {},
   "start_time": "2025-07-19T07:10:29.184104",
   "version": "2.6.0"
  }
 },
 "nbformat": 4,
 "nbformat_minor": 5
}
